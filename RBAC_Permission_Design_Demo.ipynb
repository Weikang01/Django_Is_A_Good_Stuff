{
  "nbformat": 4,
  "nbformat_minor": 0,
  "metadata": {
    "colab": {
      "name": "RBAC_Permission_Design_Demo.ipynb",
      "provenance": [],
      "authorship_tag": "ABX9TyPtrH6auQi9czKxDcNZKajq",
      "include_colab_link": true
    },
    "kernelspec": {
      "name": "python3",
      "display_name": "Python 3"
    }
  },
  "cells": [
    {
      "cell_type": "markdown",
      "metadata": {
        "id": "view-in-github",
        "colab_type": "text"
      },
      "source": [
        "<a href=\"https://colab.research.google.com/github/Weikang01/Django_Is_A_Good_Stuff/blob/master/RBAC_Permission_Design_Demo.ipynb\" target=\"_parent\"><img src=\"https://colab.research.google.com/assets/colab-badge.svg\" alt=\"Open In Colab\"/></a>"
      ]
    },
    {
      "cell_type": "code",
      "metadata": {
        "id": "5PKHqtM6GWg8",
        "colab_type": "code",
        "colab": {}
      },
      "source": [
        "!django-admin startproject mysite\n",
        "!python3 ./mysite/manage.py startapp RBAC"
      ],
      "execution_count": 0,
      "outputs": []
    },
    {
      "cell_type": "code",
      "metadata": {
        "id": "0L_OBHI_GqHu",
        "colab_type": "code",
        "colab": {}
      },
      "source": [
        "!python3 ./mysite/manage.py makemigrations\n",
        "!python3 ./mysite/manage.py migrate"
      ],
      "execution_count": 0,
      "outputs": []
    }
  ]
}